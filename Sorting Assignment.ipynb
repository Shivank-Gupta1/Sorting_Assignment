{
 "cells": [
  {
   "cell_type": "code",
   "execution_count": 2,
   "id": "13578ee5-0d4a-477a-9af7-0e08de50d9d8",
   "metadata": {},
   "outputs": [],
   "source": [
    "##1.Given an array of n numbers, give an algorithm which gives the element appearing maximum number of times?"
   ]
  },
  {
   "cell_type": "code",
   "execution_count": 9,
   "id": "ddb76ded-9717-4548-9e71-47283b4d15d9",
   "metadata": {},
   "outputs": [],
   "source": [
    "def occurence(arr):\n",
    "    arr.sort()\n",
    "    max_count = 1\n",
    "    count = 1\n",
    "    max_element = arr[0]\n",
    "    \n",
    "    for i in range(1, len(arr)):\n",
    "        if arr[i] == arr[i - 1]:\n",
    "            count = count+1\n",
    "        else:\n",
    "            if count > max_count:\n",
    "                max_count = count\n",
    "                max_element = arr[i - 1]\n",
    "            count = 1\n",
    "    \n",
    "    if count > max_count:\n",
    "        max_element = arr[-1]\n",
    "    \n",
    "    return max_element"
   ]
  },
  {
   "cell_type": "code",
   "execution_count": 11,
   "id": "219ee403-0461-4709-81a0-0c49a508f2de",
   "metadata": {},
   "outputs": [],
   "source": [
    "arr1=[1,2,3,4,55,6,4,7]"
   ]
  },
  {
   "cell_type": "code",
   "execution_count": 12,
   "id": "fba3bd4a-1f45-4dd1-8e46-f080920dd2b7",
   "metadata": {},
   "outputs": [],
   "source": [
    "x=occurence(arr1)"
   ]
  },
  {
   "cell_type": "code",
   "execution_count": 13,
   "id": "685be40e-aae3-4ebf-9c2c-605669a90790",
   "metadata": {},
   "outputs": [
    {
     "data": {
      "text/plain": [
       "4"
      ]
     },
     "execution_count": 13,
     "metadata": {},
     "output_type": "execute_result"
    }
   ],
   "source": [
    "x"
   ]
  },
  {
   "cell_type": "code",
   "execution_count": null,
   "id": "841fddd0-7b6a-4020-a819-0fb6df209d99",
   "metadata": {},
   "outputs": [],
   "source": []
  },
  {
   "cell_type": "code",
   "execution_count": 14,
   "id": "31629ae1-e9d0-4277-93be-5669e3b18550",
   "metadata": {},
   "outputs": [],
   "source": [
    "##2.We are given a list of n-1 integers and these integers are in the range of 1 to n . There are no duplicates in the list. One of the integers is missing in the list. Give an algorithm to find that element Ex: [1,2,4,6,3,7,8] 5 is the missing num."
   ]
  },
  {
   "cell_type": "code",
   "execution_count": 16,
   "id": "ba301494-ee39-4e10-a927-860ee8249071",
   "metadata": {},
   "outputs": [
    {
     "name": "stdout",
     "output_type": "stream",
     "text": [
      "5\n"
     ]
    }
   ],
   "source": [
    "def missing_number(arr):\n",
    "    n = len(arr) + 1\n",
    "    total_sum = n * (n + 1) // 2\n",
    "    actual_sum = sum(arr)\n",
    "    missing_number = total_sum - actual_sum\n",
    "    return missing_number\n",
    "\n",
    "arr = [1, 2, 4, 6, 3, 7, 8]\n",
    "print(missing_number(arr))"
   ]
  },
  {
   "cell_type": "code",
   "execution_count": null,
   "id": "16ba4c19-17f3-4250-953c-b13b2a982fc1",
   "metadata": {},
   "outputs": [],
   "source": []
  },
  {
   "cell_type": "code",
   "execution_count": 19,
   "id": "90f906e6-ae76-41e8-9d4d-4757e4c844b1",
   "metadata": {},
   "outputs": [],
   "source": [
    "##3.Given an array of n positive numbers. All numbers occurs even number of times except 1 which occurs odd number of times. Find that number in O(n) time and O(1) space. Ex: [1,2,3,2,3,1,3]. 3 is repeats odd times."
   ]
  },
  {
   "cell_type": "code",
   "execution_count": 18,
   "id": "1030d079-48e7-4dc5-8289-03d2aaa29f14",
   "metadata": {},
   "outputs": [
    {
     "name": "stdout",
     "output_type": "stream",
     "text": [
      "3\n"
     ]
    }
   ],
   "source": [
    "def odd_occurrence(arr):\n",
    "    result = 0\n",
    "    for num in arr:\n",
    "        result ^= num\n",
    "    return result\n",
    "\n",
    "arr = [1, 2, 3, 2, 3, 1, 3]\n",
    "print(odd_occurrence(arr))"
   ]
  },
  {
   "cell_type": "code",
   "execution_count": null,
   "id": "f0455547-3402-43f8-83db-9b24826f3f67",
   "metadata": {},
   "outputs": [],
   "source": []
  },
  {
   "cell_type": "code",
   "execution_count": 20,
   "id": "ed7b729e-2b61-4f08-b704-caa98750eceb",
   "metadata": {},
   "outputs": [],
   "source": [
    "##4.Given an array of n elements. Find two elements in the array such that their sum is equal to given element K."
   ]
  },
  {
   "cell_type": "code",
   "execution_count": 22,
   "id": "1f9d3e4a-95c1-4098-9c13-ce02e92150d6",
   "metadata": {},
   "outputs": [
    {
     "name": "stdout",
     "output_type": "stream",
     "text": [
      "(2, 7)\n"
     ]
    }
   ],
   "source": [
    "def pair_sum(arr, K):\n",
    "    blank = []\n",
    "    for i in arr:\n",
    "        num2 = K - i\n",
    "        if num2 in blank:\n",
    "            return (num2, i)\n",
    "        blank.append(i)\n",
    "    return None\n",
    "\n",
    "arr = [2, 7, 11, 15]\n",
    "K = 9\n",
    "print(pair_sum(arr, K))"
   ]
  },
  {
   "cell_type": "code",
   "execution_count": null,
   "id": "3c244b06-7a93-44e5-8b08-e05288be71ed",
   "metadata": {},
   "outputs": [],
   "source": []
  },
  {
   "cell_type": "code",
   "execution_count": 23,
   "id": "7fe3a5c9-f476-456c-83d3-3a1723fdb668",
   "metadata": {},
   "outputs": [],
   "source": [
    "##5.Given an array of both positive and negative numbers, find two numbers such that their sum is closest to 0. Ex: [ 1 ,60 ,-10, 70, -80,85]. Ans : -80,85."
   ]
  },
  {
   "cell_type": "code",
   "execution_count": 25,
   "id": "d6d75b3f-00de-45c0-a868-9b45c2edda7d",
   "metadata": {},
   "outputs": [
    {
     "name": "stdout",
     "output_type": "stream",
     "text": [
      "(-80, 85)\n"
     ]
    }
   ],
   "source": [
    "def find_sum_zero(arr):\n",
    "    arr.sort()\n",
    "    \n",
    "    left = 0\n",
    "    right = len(arr) - 1\n",
    "    min_sum = float('inf')\n",
    "    closest_pair = (None, None)\n",
    "    \n",
    "    while left < right:\n",
    "        current_sum = arr[left] + arr[right]\n",
    "        \n",
    "        if abs(current_sum) < abs(min_sum):\n",
    "            min_sum = current_sum\n",
    "            closest_pair = (arr[left], arr[right])\n",
    "        \n",
    "        if current_sum < 0:\n",
    "            left += 1\n",
    "        elif current_sum > 0:\n",
    "            right -= 1\n",
    "        else:\n",
    "            break\n",
    "    \n",
    "    return closest_pair\n",
    "\n",
    "arr = [1, 60, -10, 70, -80, 85]\n",
    "print(find_sum_zero(arr))"
   ]
  },
  {
   "cell_type": "code",
   "execution_count": null,
   "id": "e3663b33-acdf-4ac9-badc-90d7614627c0",
   "metadata": {},
   "outputs": [],
   "source": []
  },
  {
   "cell_type": "code",
   "execution_count": 27,
   "id": "91c0801b-6564-4a14-ad4d-f12531fd67e2",
   "metadata": {},
   "outputs": [],
   "source": [
    "##6.Given an array of n elements,Find three elements such that their sum is equal to the given number."
   ]
  },
  {
   "cell_type": "code",
   "execution_count": 30,
   "id": "596030f0-2f56-4984-aafd-7028802ca611",
   "metadata": {},
   "outputs": [
    {
     "name": "stdout",
     "output_type": "stream",
     "text": [
      "(4, 8, 10)\n"
     ]
    }
   ],
   "source": [
    "def triplet_sum(arr, K):\n",
    "    arr.sort()\n",
    "    \n",
    "    for i in range(len(arr) - 2):\n",
    "        left = i + 1\n",
    "        right = len(arr) - 1\n",
    "        \n",
    "        while left < right:\n",
    "            current_sum = arr[i] + arr[left] + arr[right]\n",
    "            if current_sum == K:\n",
    "                return (arr[i], arr[left], arr[right])\n",
    "            elif current_sum < K:\n",
    "                left += 1\n",
    "            else:\n",
    "                right -= 1\n",
    "    \n",
    "    return None\n",
    "\n",
    "\n",
    "arr = [1, 4, 45, 6, 10, 8]\n",
    "K = 22\n",
    "print(triplet_sum(arr, K))"
   ]
  },
  {
   "cell_type": "code",
   "execution_count": null,
   "id": "a0306930-8f3f-4e25-9750-d2c67dbcf4b5",
   "metadata": {},
   "outputs": [],
   "source": []
  },
  {
   "cell_type": "code",
   "execution_count": 31,
   "id": "6f74862a-6c20-4063-8717-69727f5b28ab",
   "metadata": {},
   "outputs": [],
   "source": [
    "##7.Given an array of n elements . Find three elements i, j, k in the array such that i * i + j * j = k*k."
   ]
  },
  {
   "cell_type": "code",
   "execution_count": 32,
   "id": "25ab572d-a6e8-4fe8-a45f-5c15de9123aa",
   "metadata": {},
   "outputs": [
    {
     "name": "stdout",
     "output_type": "stream",
     "text": [
      "(3, 4, 5)\n"
     ]
    }
   ],
   "source": [
    "import math\n",
    "\n",
    "def pytha(arr):\n",
    "    squares = [x * x for x in arr]\n",
    "    \n",
    "    n = len(arr)\n",
    "    for i in range(n):\n",
    "        for j in range(i + 1, n):\n",
    "            a = arr[i]\n",
    "            b = arr[j]\n",
    "            sum_squares = a * a + b * b\n",
    "            if sum_squares in squares:\n",
    "                k = int(math.sqrt(sum_squares))\n",
    "                if k in arr:\n",
    "                    return (a, b, k)\n",
    "    \n",
    "    return None\n",
    "\n",
    "arr = [3, 4, 5, 6, 8, 10]\n",
    "print(pytha(arr))"
   ]
  },
  {
   "cell_type": "code",
   "execution_count": null,
   "id": "1493a379-8bf3-4beb-b75a-541fcd96c8fd",
   "metadata": {},
   "outputs": [],
   "source": []
  },
  {
   "cell_type": "code",
   "execution_count": 35,
   "id": "6a2c0cc2-dbeb-4e07-a253-372eb3fe2007",
   "metadata": {},
   "outputs": [],
   "source": [
    "##8.An element is a majority if it appears more than n/2 times. Give an algorithm takes an array of n element as argument and identifies a majority (if it exists)."
   ]
  },
  {
   "cell_type": "code",
   "execution_count": 34,
   "id": "b00048eb-7196-4812-bee6-1130f4c4d7dd",
   "metadata": {},
   "outputs": [
    {
     "name": "stdout",
     "output_type": "stream",
     "text": [
      "4\n"
     ]
    }
   ],
   "source": [
    "def find_majority(arr):\n",
    "    n = len(arr)\n",
    "    \n",
    "    candidate = None\n",
    "    count = 0\n",
    "    \n",
    "    for i in arr:\n",
    "        if count == 0:\n",
    "            candidate = i\n",
    "            count = 1\n",
    "        elif i == candidate:\n",
    "            count = count+1\n",
    "        else:\n",
    "            count = count-1\n",
    "    \n",
    "    count = 0\n",
    "    for i in arr:\n",
    "        if i == candidate:\n",
    "            count = count+1\n",
    "    \n",
    "    if count > n // 2:\n",
    "        return candidate\n",
    "    else:\n",
    "        return None\n",
    "\n",
    "arr = [3, 3, 4, 2, 4, 4, 2, 4, 4]\n",
    "print(find_majority(arr))"
   ]
  },
  {
   "cell_type": "code",
   "execution_count": null,
   "id": "e3794b48-0ad0-4c4e-86e5-a789dbd9069b",
   "metadata": {},
   "outputs": [],
   "source": []
  },
  {
   "cell_type": "code",
   "execution_count": 36,
   "id": "57889607-f75a-4ac0-b38a-d0c669f708f0",
   "metadata": {},
   "outputs": [],
   "source": [
    "##9.Given n × n matrix, and in each row all 1’s are followed by 0’s. Find the row with the maximum number of 0’s."
   ]
  },
  {
   "cell_type": "code",
   "execution_count": 37,
   "id": "a89af404-e736-4354-8e41-5e111465f2da",
   "metadata": {},
   "outputs": [],
   "source": [
    "def max_zeros(matrix):\n",
    "    n = len(matrix)\n",
    "    max_zeros_row = 0\n",
    "    max_zeros_count = 0\n",
    "    \n",
    "    for i in range(n):\n",
    "        zeros_count = matrix[i].count(0)\n",
    "        if zeros_count > max_zeros_count:\n",
    "            max_zeros_count = zeros_count\n",
    "            max_zeros_row = i\n",
    "    \n",
    "    return max_zeros_row"
   ]
  },
  {
   "cell_type": "code",
   "execution_count": 40,
   "id": "1b408a3b-f94f-4f3d-aaea-e38fa0104f16",
   "metadata": {},
   "outputs": [],
   "source": [
    "matrix = [\n",
    "    [1, 1, 1, 1, 0, 0],\n",
    "    [1, 1, 1, 0, 0, 0],\n",
    "    [1, 1, 1, 0, 0, 0],\n",
    "    [1, 1, 0, 0, 0, 0],\n",
    "    [1, 0, 0, 0, 0, 0]\n",
    "]"
   ]
  },
  {
   "cell_type": "code",
   "execution_count": 41,
   "id": "647dca76-f6af-49f2-bde2-f8dd4c32a25d",
   "metadata": {},
   "outputs": [
    {
     "data": {
      "text/plain": [
       "4"
      ]
     },
     "execution_count": 41,
     "metadata": {},
     "output_type": "execute_result"
    }
   ],
   "source": [
    "max_zeros(matrix)"
   ]
  },
  {
   "cell_type": "code",
   "execution_count": null,
   "id": "54a7d034-bd6e-4b8e-9d55-332aaf5f8827",
   "metadata": {},
   "outputs": [],
   "source": []
  },
  {
   "cell_type": "code",
   "execution_count": 42,
   "id": "c91d8f72-d970-47c2-ad13-65025b9913b6",
   "metadata": {},
   "outputs": [],
   "source": [
    "##10.Sort an array of 0’s, 1’s and 2’s [or R’s, G’s and B’s]: Given an array A[] consisting of 0’s, 1’s and 2’s, give an algorithm for sorting A[].The algorithm should put all 0’s first, then all 1’s and finally all 2’s at the end. Example Input = {0,1,1,0,1,2,1,2,0,0,0,1}, Output = {0,0,0,0,0,1,1,1,1,1,2,2}"
   ]
  },
  {
   "cell_type": "code",
   "execution_count": 43,
   "id": "b61d38eb-dda0-48af-8aa9-778baf746c2f",
   "metadata": {},
   "outputs": [],
   "source": [
    "def sort_arr(arr):\n",
    "    low, mid, high = 0, 0, len(arr) - 1\n",
    "    \n",
    "    while mid <= high:\n",
    "        if arr[mid] == 0:\n",
    "            arr[low], arr[mid] = arr[mid], arr[low]\n",
    "            low = low+1\n",
    "            mid = mid+1\n",
    "        elif arr[mid] == 1:\n",
    "            mid = mid+1\n",
    "        else:\n",
    "            arr[high], arr[mid] = arr[mid], arr[high]\n",
    "            high = high-1\n",
    "\n",
    "arr = [0, 1, 1, 0, 1, 2, 1, 2, 0, 0, 0, 1]\n",
    "sort_arr(arr)"
   ]
  },
  {
   "cell_type": "code",
   "execution_count": 44,
   "id": "f36ed52a-bb41-4acd-a21f-86a15fd2e15e",
   "metadata": {},
   "outputs": [
    {
     "name": "stdout",
     "output_type": "stream",
     "text": [
      "[0, 0, 0, 0, 0, 1, 1, 1, 1, 1, 2, 2]\n"
     ]
    }
   ],
   "source": [
    "print(arr)"
   ]
  },
  {
   "cell_type": "code",
   "execution_count": null,
   "id": "75f53eda-2789-4cca-878f-d11e9224134c",
   "metadata": {},
   "outputs": [],
   "source": []
  }
 ],
 "metadata": {
  "kernelspec": {
   "display_name": "Python 3 (ipykernel)",
   "language": "python",
   "name": "python3"
  },
  "language_info": {
   "codemirror_mode": {
    "name": "ipython",
    "version": 3
   },
   "file_extension": ".py",
   "mimetype": "text/x-python",
   "name": "python",
   "nbconvert_exporter": "python",
   "pygments_lexer": "ipython3",
   "version": "3.10.8"
  }
 },
 "nbformat": 4,
 "nbformat_minor": 5
}
